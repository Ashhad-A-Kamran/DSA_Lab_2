{
 "cells": [
  {
   "cell_type": "markdown",
   "metadata": {},
   "source": [
    "# Roll no: 22F-BSAI-2"
   ]
  },
  {
   "cell_type": "code",
   "execution_count": 34,
   "metadata": {},
   "outputs": [],
   "source": [
    "# Function to check length\n",
    "def length(s):\n",
    "    return len(s)\n",
    "\n",
    "\n",
    "# Function to check palindrome\n",
    "def check_palindrome(s: str): \n",
    "    freq_counter = {}\n",
    "# count of characters in the string s\n",
    "    for char in s:\n",
    "        if char in freq_counter:\n",
    "            freq_counter[char] += 1\n",
    "        else:\n",
    "            freq_counter[char] = 1\n",
    "\n",
    "    len_palindrome = 0\n",
    "    is_odd = False\n",
    "\n",
    "# checking len of longest palindrome\n",
    "    for count in freq_counter.values():\n",
    "        if count % 2 == 0:\n",
    "            len_palindrome += count\n",
    "        else:\n",
    "            len_palindrome += count-1\n",
    "            is_odd = True\n",
    "    if is_odd == True:\n",
    "        len_palindrome = 1\n",
    "        \n",
    "    return print(f\"Lengthof the longest palindrome = {len_palindrome}\")\n"
   ]
  },
  {
   "cell_type": "code",
   "execution_count": 35,
   "metadata": {},
   "outputs": [
    {
     "name": "stdout",
     "output_type": "stream",
     "text": [
      "Lengthof the longest palindrome = 1\n"
     ]
    }
   ],
   "source": [
    "text = input(\"Enter string only: \")\n",
    "# stack = Stack()\n",
    "check_palindrome(text)"
   ]
  }
 ],
 "metadata": {
  "kernelspec": {
   "display_name": "Python 3",
   "language": "python",
   "name": "python3"
  },
  "language_info": {
   "codemirror_mode": {
    "name": "ipython",
    "version": 3
   },
   "file_extension": ".py",
   "mimetype": "text/x-python",
   "name": "python",
   "nbconvert_exporter": "python",
   "pygments_lexer": "ipython3",
   "version": "3.13.0"
  }
 },
 "nbformat": 4,
 "nbformat_minor": 2
}
